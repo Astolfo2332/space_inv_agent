{
 "cells": [
  {
   "cell_type": "code",
   "id": "initial_id",
   "metadata": {
    "collapsed": true,
    "ExecuteTime": {
     "end_time": "2025-06-26T20:47:45.222924Z",
     "start_time": "2025-06-26T20:47:45.145969Z"
    }
   },
   "source": [
    "from stable_baselines3 import A2C\n",
    "\n",
    "model = A2C.load(\"models/a2c/SpaceInvadersNoFrameskip-v4_1/SpaceInvadersNoFrameskip-v4.zip\")"
   ],
   "outputs": [
    {
     "name": "stderr",
     "output_type": "stream",
     "text": [
      "/home/kaiki/anaconda3/envs/pytorch/lib/python3.12/site-packages/stable_baselines3/common/save_util.py:167: UserWarning: Could not deserialize object lr_schedule. Consider using `custom_objects` argument to replace this object.\n",
      "Exception: code expected at least 16 arguments, got 15\n",
      "  warnings.warn(\n",
      "/home/kaiki/anaconda3/envs/pytorch/lib/python3.12/site-packages/stable_baselines3/common/vec_env/patch_gym.py:95: UserWarning: You loaded a model that was trained using OpenAI Gym. We strongly recommend transitioning to Gymnasium by saving that model again.\n",
      "  warnings.warn(\n"
     ]
    },
    {
     "ename": "ValueError",
     "evalue": "The environment is of type <class 'str'>, not a Gymnasium environment. In this case, we expect OpenAI Gym to be installed and the environment to be an OpenAI Gym environment.",
     "output_type": "error",
     "traceback": [
      "\u001B[0;31m---------------------------------------------------------------------------\u001B[0m",
      "\u001B[0;31mValueError\u001B[0m                                Traceback (most recent call last)",
      "Cell \u001B[0;32mIn[4], line 3\u001B[0m\n\u001B[1;32m      1\u001B[0m \u001B[38;5;28;01mfrom\u001B[39;00m \u001B[38;5;21;01mstable_baselines3\u001B[39;00m \u001B[38;5;28;01mimport\u001B[39;00m A2C\n\u001B[0;32m----> 3\u001B[0m model \u001B[38;5;241m=\u001B[39m A2C\u001B[38;5;241m.\u001B[39mload(\u001B[38;5;124m\"\u001B[39m\u001B[38;5;124mmodels/a2c/SpaceInvadersNoFrameskip-v4_1/SpaceInvadersNoFrameskip-v4.zip\u001B[39m\u001B[38;5;124m\"\u001B[39m, \u001B[38;5;124m\"\u001B[39m\u001B[38;5;124mSpaceInvadersNoFrameskip-v4\u001B[39m\u001B[38;5;124m\"\u001B[39m)\n",
      "File \u001B[0;32m~/anaconda3/envs/pytorch/lib/python3.12/site-packages/stable_baselines3/common/base_class.py:715\u001B[0m, in \u001B[0;36mBaseAlgorithm.load\u001B[0;34m(cls, path, env, device, custom_objects, print_system_info, force_reset, **kwargs)\u001B[0m\n\u001B[1;32m    711\u001B[0m     data[key] \u001B[38;5;241m=\u001B[39m _convert_space(data[key])\n\u001B[1;32m    713\u001B[0m \u001B[38;5;28;01mif\u001B[39;00m env \u001B[38;5;129;01mis\u001B[39;00m \u001B[38;5;129;01mnot\u001B[39;00m \u001B[38;5;28;01mNone\u001B[39;00m:\n\u001B[1;32m    714\u001B[0m     \u001B[38;5;66;03m# Wrap first if needed\u001B[39;00m\n\u001B[0;32m--> 715\u001B[0m     env \u001B[38;5;241m=\u001B[39m \u001B[38;5;28mcls\u001B[39m\u001B[38;5;241m.\u001B[39m_wrap_env(env, data[\u001B[38;5;124m\"\u001B[39m\u001B[38;5;124mverbose\u001B[39m\u001B[38;5;124m\"\u001B[39m])\n\u001B[1;32m    716\u001B[0m     \u001B[38;5;66;03m# Check if given env is valid\u001B[39;00m\n\u001B[1;32m    717\u001B[0m     check_for_correct_spaces(env, data[\u001B[38;5;124m\"\u001B[39m\u001B[38;5;124mobservation_space\u001B[39m\u001B[38;5;124m\"\u001B[39m], data[\u001B[38;5;124m\"\u001B[39m\u001B[38;5;124maction_space\u001B[39m\u001B[38;5;124m\"\u001B[39m])\n",
      "File \u001B[0;32m~/anaconda3/envs/pytorch/lib/python3.12/site-packages/stable_baselines3/common/base_class.py:217\u001B[0m, in \u001B[0;36mBaseAlgorithm._wrap_env\u001B[0;34m(env, verbose, monitor_wrapper)\u001B[0m\n\u001B[1;32m    205\u001B[0m \u001B[38;5;250m\u001B[39m\u001B[38;5;124;03m\"\"\" \"\u001B[39;00m\n\u001B[1;32m    206\u001B[0m \u001B[38;5;124;03mWrap environment with the appropriate wrappers if needed.\u001B[39;00m\n\u001B[1;32m    207\u001B[0m \u001B[38;5;124;03mFor instance, to have a vectorized environment\u001B[39;00m\n\u001B[0;32m   (...)\u001B[0m\n\u001B[1;32m    213\u001B[0m \u001B[38;5;124;03m:return: The wrapped environment.\u001B[39;00m\n\u001B[1;32m    214\u001B[0m \u001B[38;5;124;03m\"\"\"\u001B[39;00m\n\u001B[1;32m    215\u001B[0m \u001B[38;5;28;01mif\u001B[39;00m \u001B[38;5;129;01mnot\u001B[39;00m \u001B[38;5;28misinstance\u001B[39m(env, VecEnv):\n\u001B[1;32m    216\u001B[0m     \u001B[38;5;66;03m# Patch to support gym 0.21/0.26 and gymnasium\u001B[39;00m\n\u001B[0;32m--> 217\u001B[0m     env \u001B[38;5;241m=\u001B[39m _patch_env(env)\n\u001B[1;32m    218\u001B[0m     \u001B[38;5;28;01mif\u001B[39;00m \u001B[38;5;129;01mnot\u001B[39;00m is_wrapped(env, Monitor) \u001B[38;5;129;01mand\u001B[39;00m monitor_wrapper:\n\u001B[1;32m    219\u001B[0m         \u001B[38;5;28;01mif\u001B[39;00m verbose \u001B[38;5;241m>\u001B[39m\u001B[38;5;241m=\u001B[39m \u001B[38;5;241m1\u001B[39m:\n",
      "File \u001B[0;32m~/anaconda3/envs/pytorch/lib/python3.12/site-packages/stable_baselines3/common/vec_env/patch_gym.py:33\u001B[0m, in \u001B[0;36m_patch_env\u001B[0;34m(env)\u001B[0m\n\u001B[1;32m     30\u001B[0m     \u001B[38;5;28;01mreturn\u001B[39;00m env\n\u001B[1;32m     32\u001B[0m \u001B[38;5;28;01mif\u001B[39;00m \u001B[38;5;129;01mnot\u001B[39;00m gym_installed \u001B[38;5;129;01mor\u001B[39;00m \u001B[38;5;129;01mnot\u001B[39;00m \u001B[38;5;28misinstance\u001B[39m(env, gym\u001B[38;5;241m.\u001B[39mEnv):\n\u001B[0;32m---> 33\u001B[0m     \u001B[38;5;28;01mraise\u001B[39;00m \u001B[38;5;167;01mValueError\u001B[39;00m(\n\u001B[1;32m     34\u001B[0m         \u001B[38;5;124mf\u001B[39m\u001B[38;5;124m\"\u001B[39m\u001B[38;5;124mThe environment is of type \u001B[39m\u001B[38;5;132;01m{\u001B[39;00m\u001B[38;5;28mtype\u001B[39m(env)\u001B[38;5;132;01m}\u001B[39;00m\u001B[38;5;124m, not a Gymnasium \u001B[39m\u001B[38;5;124m\"\u001B[39m\n\u001B[1;32m     35\u001B[0m         \u001B[38;5;124mf\u001B[39m\u001B[38;5;124m\"\u001B[39m\u001B[38;5;124menvironment. In this case, we expect OpenAI Gym to be \u001B[39m\u001B[38;5;124m\"\u001B[39m\n\u001B[1;32m     36\u001B[0m         \u001B[38;5;124mf\u001B[39m\u001B[38;5;124m\"\u001B[39m\u001B[38;5;124minstalled and the environment to be an OpenAI Gym environment.\u001B[39m\u001B[38;5;124m\"\u001B[39m\n\u001B[1;32m     37\u001B[0m     )\n\u001B[1;32m     39\u001B[0m \u001B[38;5;28;01mtry\u001B[39;00m:\n\u001B[1;32m     40\u001B[0m     \u001B[38;5;28;01mimport\u001B[39;00m \u001B[38;5;21;01mshimmy\u001B[39;00m\n",
      "\u001B[0;31mValueError\u001B[0m: The environment is of type <class 'str'>, not a Gymnasium environment. In this case, we expect OpenAI Gym to be installed and the environment to be an OpenAI Gym environment."
     ]
    }
   ],
   "execution_count": 4
  },
  {
   "metadata": {
    "ExecuteTime": {
     "end_time": "2025-06-26T20:47:32.117823Z",
     "start_time": "2025-06-26T20:47:31.912525Z"
    }
   },
   "cell_type": "code",
   "source": "",
   "id": "9fb3c7e23b54d97d",
   "outputs": [
    {
     "ename": "AttributeError",
     "evalue": "'NoneType' object has no attribute 'unwrapped'",
     "output_type": "error",
     "traceback": [
      "\u001B[0;31m---------------------------------------------------------------------------\u001B[0m",
      "\u001B[0;31mAttributeError\u001B[0m                            Traceback (most recent call last)",
      "Cell \u001B[0;32mIn[3], line 1\u001B[0m\n\u001B[0;32m----> 1\u001B[0m model\u001B[38;5;241m.\u001B[39menv\u001B[38;5;241m.\u001B[39munwrapped\n",
      "\u001B[0;31mAttributeError\u001B[0m: 'NoneType' object has no attribute 'unwrapped'"
     ]
    }
   ],
   "execution_count": 3
  }
 ],
 "metadata": {
  "kernelspec": {
   "display_name": "Python [conda env:pytorch] *",
   "language": "python",
   "name": "conda-env-pytorch-py"
  },
  "language_info": {
   "codemirror_mode": {
    "name": "ipython",
    "version": 2
   },
   "file_extension": ".py",
   "mimetype": "text/x-python",
   "name": "python",
   "nbconvert_exporter": "python",
   "pygments_lexer": "ipython2",
   "version": "2.7.6"
  }
 },
 "nbformat": 4,
 "nbformat_minor": 5
}
