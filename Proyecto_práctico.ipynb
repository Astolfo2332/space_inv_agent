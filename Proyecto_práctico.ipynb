{
 "cells": [
  {
   "cell_type": "markdown",
   "source": [
    "# Actividad - Proyecto práctico\n",
    "\n",
    "\n",
    "> La actividad se desarrollará en grupos pre-definidos de 2-3 alumnos. Se debe indicar los nombres en orden alfabético (de apellidos). Recordad que esta actividad se corresponde con un 30% de la nota final de la asignatura. Se debe entregar entregar el trabajo en la presente notebook.\n",
    "*   Alumno 1:\n",
    "*   Alumno 2:\n",
    "*   Alumno 3:\n",
    "\n",
    "\n",
    "\n",
    "\n"
   ],
   "metadata": {
    "id": "jUehXgCyIRdq"
   }
  },
  {
   "cell_type": "markdown",
   "source": [
    "---\n",
    "## **PARTE 1** - Instalación y requisitos previos\n",
    "\n",
    "> Las prácticas han sido preparadas para poder realizarse en el entorno de trabajo de Google Colab. Sin embargo, esta plataforma presenta ciertas incompatibilidades a la hora de visualizar la renderización en gym. Por ello, para obtener estas visualizaciones, se deberá trasladar el entorno de trabajo a local. Por ello, el presente dosier presenta instrucciones para poder trabajar en ambos entornos. Siga los siguientes pasos para un correcto funcionamiento:\n",
    "1.   **LOCAL:** Preparar el enviroment, siguiendo las intrucciones detalladas en la sección *1.1.Preparar enviroment*.\n",
    "2.  **AMBOS:** Modificar las variables \"mount\" y \"drive_mount\" a la carpeta de trabajo en drive en el caso de estar en Colab, y ejecturar la celda *1.2.Localizar entorno de trabajo*.\n",
    "3. **COLAB:** se deberá ejecutar las celdas correspondientes al montaje de la carpeta de trabajo en Drive. Esta corresponde a la sección *1.3.Montar carpeta de datos local*.\n",
    "4.  **AMBOS:** Instalar las librerías necesarias, siguiendo la sección *1.4.Instalar librerías necesarias*.\n"
   ],
   "metadata": {
    "id": "JwpYlnjWJhS9"
   }
  },
  {
   "cell_type": "markdown",
   "source": [
    "---\n",
    "### 1.1. Preparar enviroment (solo local)\n",
    "\n",
    "\n",
    "\n",
    "> Para preparar el entorno de trabajo en local, se han seguido los siguientes pasos:\n",
    "1. En Windows, puede ser necesario instalar las C++ Build Tools. Para ello, siga los siguientes pasos: https://towardsdatascience.com/how-to-install-openai-gym-in-a-windows-environment-338969e24d30.\n",
    "2. Instalar Anaconda\n",
    "3. Siguiendo el código que se presenta comentado en la próxima celda: Crear un enviroment, cambiar la ruta de trabajo, e instalar librerías básicas.\n",
    "\n",
    "\n",
    "```\n",
    "conda create --name miar_rl python=3.8\n",
    "conda activate miar_rl\n",
    "cd \"PATH_TO_FOLDER\"\n",
    "conda install git\n",
    "pip install jupyter\n",
    "```\n",
    "\n",
    "\n",
    "4. Abrir la notebook con *jupyter-notebook*.\n",
    "\n",
    "\n",
    "\n",
    "```\n",
    "jupyter-notebook\n",
    "```\n"
   ],
   "metadata": {
    "id": "RU2BPrK2JkP0"
   }
  },
  {
   "cell_type": "markdown",
   "source": [
    "---\n",
    "### 1.2. Localizar entorno de trabajo: Google colab o local"
   ],
   "metadata": {
    "id": "w-kixNPiJqTc"
   }
  },
  {
   "cell_type": "code",
   "source": [
    "from networkx.tests.test_all_random_functions import progress\n",
    "\n",
    "# ATENCIÓN!! Modificar ruta relativa a la práctica si es distinta (drive_root)\n",
    "mount='/content/gdrive'\n",
    "drive_root = mount + \"/My Drive/08_MIAR/actividades/proyecto practico\"\n",
    "\n",
    "try:\n",
    "  from google.colab import drive\n",
    "  IN_COLAB=True\n",
    "except:\n",
    "  IN_COLAB=False"
   ],
   "metadata": {
    "id": "S_YDFwZ-JscI"
   },
   "execution_count": null,
   "outputs": []
  },
  {
   "cell_type": "markdown",
   "source": [
    "---\n",
    "### 1.3. Montar carpeta de datos local (solo Colab)"
   ],
   "metadata": {
    "id": "8Dp_a1iBJ0tf"
   }
  },
  {
   "cell_type": "code",
   "source": [
    "# Switch to the directory on the Google Drive that you want to use\n",
    "import os\n",
    "if IN_COLAB:\n",
    "  print(\"We're running Colab\")\n",
    "\n",
    "  if IN_COLAB:\n",
    "    # Mount the Google Drive at mount\n",
    "    print(\"Colab: mounting Google drive on \", mount)\n",
    "\n",
    "    drive.mount(mount)\n",
    "\n",
    "    # Create drive_root if it doesn't exist\n",
    "    create_drive_root = True\n",
    "    if create_drive_root:\n",
    "      print(\"\\nColab: making sure \", drive_root, \" exists.\")\n",
    "      os.makedirs(drive_root, exist_ok=True)\n",
    "\n",
    "    # Change to the directory\n",
    "    print(\"\\nColab: Changing directory to \", drive_root)\n",
    "    %cd $drive_root\n",
    "# Verify we're in the correct working directory\n",
    "%pwd\n",
    "print(\"Archivos en el directorio: \")\n",
    "print(os.listdir())"
   ],
   "metadata": {
    "id": "I6n7MIefJ21i"
   },
   "execution_count": null,
   "outputs": []
  },
  {
   "cell_type": "markdown",
   "source": [
    "---\n",
    "### 1.4. Instalar librerías necesarias"
   ],
   "metadata": {
    "id": "i1ZSL5bpJ560"
   }
  },
  {
   "cell_type": "code",
   "source": [
    "if IN_COLAB:\n",
    "  %pip install gym==0.17.3\n",
    "  %pip install git+https://github.com/Kojoley/atari-py.git\n",
    "  %pip install keras-rl2==1.0.5\n",
    "  %pip install tensorflow==2.8\n",
    "else:\n",
    "  %pip install gym==0.17.3\n",
    "  %pip install git+https://github.com/Kojoley/atari-py.git\n",
    "  %pip install pyglet==1.5.0\n",
    "  %pip install h5py==3.1.0\n",
    "  %pip install Pillow==9.5.0\n",
    "  %pip install keras-rl2==1.0.5\n",
    "  %pip install Keras==2.2.4\n",
    "  %pip install tensorflow==2.5.3\n",
    "  %pip install torch==2.0.1\n",
    "  %pip install agents==1.4.0"
   ],
   "metadata": {
    "id": "UbVRjvHCJ8UF"
   },
   "execution_count": null,
   "outputs": []
  },
  {
   "cell_type": "markdown",
   "metadata": {
    "id": "4hzP_5ZuGb2X"
   },
   "source": [
    "---\n",
    "## **PARTE 2**. Enunciado\n",
    "\n",
    "Consideraciones a tener en cuenta:\n",
    "\n",
    "- El entorno sobre el que trabajaremos será _SpaceInvaders-v0_ y el algoritmo que usaremos será _DQN_.\n",
    "\n",
    "- Para nuestro ejercicio, el requisito mínimo será alcanzado cuando el agente consiga una **media de recompensa por encima de 20 puntos en modo test**. Por ello, esta media de la recompensa se calculará a partir del código de test en la última celda del notebook.\n",
    "\n",
    "Este proyecto práctico consta de tres partes:\n",
    "\n",
    "1.   Implementar la red neuronal que se usará en la solución\n",
    "2.   Implementar las distintas piezas de la solución DQN\n",
    "3.   Justificar la respuesta en relación a los resultados obtenidos\n",
    "\n",
    "**Rúbrica**: Se valorará la originalidad en la solución aportada, así como la capacidad de discutir los resultados de forma detallada. El requisito mínimo servirá para aprobar la actividad, bajo premisa de que la discusión del resultado sera apropiada.\n",
    "\n",
    "IMPORTANTE:\n",
    "\n",
    "* Si no se consigue una puntuación óptima, responder sobre la mejor puntuación obtenida.\n",
    "* Para entrenamientos largos, recordad que podéis usar checkpoints de vuestros modelos para retomar los entrenamientos. En este caso, recordad cambiar los parámetros adecuadamente (sobre todo los relacionados con el proceso de exploración).\n",
    "* Se deberá entregar unicamente el notebook y los pesos del mejor modelo en un fichero .zip, de forma organizada.\n",
    "* Cada alumno deberá de subir la solución de forma individual."
   ]
  },
  {
   "cell_type": "markdown",
   "source": [
    "---\n",
    "## **PARTE 3**. Desarrollo y preguntas"
   ],
   "metadata": {
    "id": "6_b3mzw8IzJP"
   }
  },
  {
   "cell_type": "markdown",
   "metadata": {
    "id": "duPmUNOVGb2a"
   },
   "source": [
    "#### Importar librerías"
   ]
  },
  {
   "cell_type": "code",
   "metadata": {
    "id": "j3eRhgI-Gb2a",
    "ExecuteTime": {
     "end_time": "2025-06-15T02:54:34.760639Z",
     "start_time": "2025-06-15T02:54:31.605696Z"
    }
   },
   "source": [
    "from PIL import Image\n",
    "import numpy as np\n",
    "import mlflow\n",
    "from stable_baselines3 import DQN\n",
    "from stable_baselines3.common.torch_layers import BaseFeaturesExtractor\n",
    "import torch.nn as nn\n",
    "import torch\n",
    "import os\n",
    "from stable_baselines3.common.vec_env import DummyVecEnv\n",
    "from stable_baselines3.common.callbacks import ProgressBarCallback, BaseCallback\n",
    "\n",
    "import gymnasium as gym\n",
    "import ale_py\n",
    "\n",
    "\n",
    "from torchvision.models import mobilenet_v2\n",
    "\n",
    "from tqdm.notebook import tqdm\n",
    "import mlflow\n",
    "import torchvision\n",
    "from torchvision import transforms\n",
    "import torch.nn.functional as F"
   ],
   "outputs": [],
   "execution_count": 1
  },
  {
   "cell_type": "markdown",
   "metadata": {
    "id": "f4jgQjzoGb2a"
   },
   "source": [
    "\n",
    "#### Configuración base"
   ]
  },
  {
   "metadata": {
    "ExecuteTime": {
     "end_time": "2025-06-15T02:54:35.012101Z",
     "start_time": "2025-06-15T02:54:34.829792Z"
    }
   },
   "cell_type": "code",
   "source": [
    "\n",
    "INPUT_SHAPE = (1, 84, 84)\n",
    "WINDOW_LENGTH = 4\n",
    "gym.register_envs(ale_py)\n",
    "\n",
    "class ClipRewardWrapper(gym.RewardWrapper):\n",
    "    def __init__(self, env):\n",
    "        super().__init__(env)\n",
    "\n",
    "    def reward(self, reward):\n",
    "        return np.clip(reward, -1.0, 1.0)\n",
    "\n",
    "env_name = 'SpaceInvaders-v0'\n",
    "env = gym.make(env_name)\n",
    "env = ClipRewardWrapper(env)\n",
    "\n",
    "np.random.seed(123)\n",
    "obs, info = env.reset(seed=123)\n",
    "nb_actions = env.action_space.n\n"
   ],
   "outputs": [
    {
     "name": "stderr",
     "output_type": "stream",
     "text": [
      "/home/astolfo/anaconda3/envs/pytorch/lib/python3.10/site-packages/gymnasium/envs/registration.py:519: DeprecationWarning: \u001B[33mWARN: The environment SpaceInvaders-v0 is out of date. You should consider upgrading to version `v4`.\u001B[0m\n",
      "  logger.deprecation(\n",
      "A.L.E: Arcade Learning Environment (version 0.11.1+2750686)\n",
      "[Powered by Stella]\n"
     ]
    }
   ],
   "execution_count": 2
  },
  {
   "cell_type": "markdown",
   "metadata": {
    "id": "7yitXTADGb2b"
   },
   "source": [
    "1. Implementación de la red neuronal"
   ]
  },
  {
   "cell_type": "code",
   "metadata": {
    "id": "O4GKrfWSGb2b",
    "ExecuteTime": {
     "end_time": "2025-06-15T02:54:35.027546Z",
     "start_time": "2025-06-15T02:54:35.022926Z"
    }
   },
   "source": [
    "class MobileNetFeatureExtractor(BaseFeaturesExtractor):\n",
    "    def __init__(self, observation_space, features_dim=256):\n",
    "        super().__init__(observation_space, features_dim)\n",
    "\n",
    "        # Pretrained MobileNetV2 without the classifier\n",
    "        self.backbone = mobilenet_v2(pretrained=True).features\n",
    "\n",
    "        # Freeze weights (optional)\n",
    "        for param in self.backbone.parameters():\n",
    "            param.requires_grad = False\n",
    "\n",
    "        # Compute shape by doing one forward pass\n",
    "        with torch.no_grad():\n",
    "            sample = torch.as_tensor(observation_space.sample()[None]).float()\n",
    "            if sample.shape[1] != 3:  # Convert grayscale to 3 channels\n",
    "                sample = sample.repeat(1, 3, 1, 1)\n",
    "            n_flatten = self.backbone(sample).view(sample.shape[0], -1).shape[1]\n",
    "\n",
    "        self.projector = nn.Sequential(\n",
    "            nn.Flatten(),\n",
    "            nn.Linear(n_flatten, features_dim),\n",
    "            nn.ReLU()\n",
    "        )\n",
    "\n",
    "    def forward(self, obs):\n",
    "        # Convert 1-channel grayscale to 3 channels if needed\n",
    "        if obs.shape[1] == 1:\n",
    "            obs = obs.repeat(1, 3, 1, 1)\n",
    "        features = self.backbone(obs)\n",
    "        return self.projector(features)"
   ],
   "outputs": [],
   "execution_count": 3
  },
  {
   "metadata": {
    "ExecuteTime": {
     "end_time": "2025-06-15T02:54:35.074114Z",
     "start_time": "2025-06-15T02:54:35.069809Z"
    }
   },
   "cell_type": "code",
   "source": [
    "class VitB16FeaturesExtractor(BaseFeaturesExtractor):\n",
    "    def __init__(self, observation_space, features_dim=256):\n",
    "        super().__init__(observation_space, features_dim)\n",
    "\n",
    "        # Load a pretrained ViT model\n",
    "        weights = torchvision.models.ViT_B_16_Weights.DEFAULT\n",
    "        self.backbone = torchvision.models.vit_b_16(weights=weights).cuda()\n",
    "\n",
    "        # Freeze weights (optional)\n",
    "        for param in self.backbone.parameters():\n",
    "            param.requires_grad = False\n",
    "\n",
    "        # Compute shape by doing one forward pass\n",
    "        with torch.no_grad():\n",
    "            sample = torch.as_tensor(observation_space.sample()[None]).float()\n",
    "            if sample.shape[1] != 3:  # Convert grayscale to 3 channels\n",
    "                sample = sample.repeat(1, 3, 1, 1)\n",
    "            sample = self._preprocess(sample).cuda()\n",
    "            n_flatten = self.backbone(sample).view(sample.shape[0], -1).shape[1]\n",
    "\n",
    "        self.projector = nn.Sequential(\n",
    "            nn.Flatten(),\n",
    "            nn.Linear(n_flatten, features_dim),\n",
    "            nn.ReLU()\n",
    "        )\n",
    "\n",
    "    def _preprocess(self, observation):\n",
    "        # Preprocess the observation to match the input requirements of ViT\n",
    "        batch_resize = F.interpolate(\n",
    "            observation, size=(224, 224), mode='bilinear', align_corners=False\n",
    "        )\n",
    "        return batch_resize\n",
    "\n",
    "\n",
    "    def forward(self, obs):\n",
    "        # Convert 1-channel grayscale to 3 channels if needed\n",
    "        obs = self._preprocess(obs).cuda()\n",
    "        if obs.shape[1] == 1:\n",
    "            obs = obs.repeat(1, 3, 1, 1)\n",
    "        features = self.backbone(obs)\n",
    "        return self.projector(features)"
   ],
   "outputs": [],
   "execution_count": 4
  },
  {
   "cell_type": "markdown",
   "metadata": {
    "id": "OB9-_5HPGb2b"
   },
   "source": [
    "2. Implementación de la solución DQN"
   ]
  },
  {
   "metadata": {
    "ExecuteTime": {
     "end_time": "2025-06-15T02:54:35.782389Z",
     "start_time": "2025-06-15T02:54:35.778264Z"
    }
   },
   "cell_type": "code",
   "source": [
    "class TQDMProgressCallback(BaseCallback):\n",
    "    def __init__(self, total_timesteps: int, verbose=0):\n",
    "        super().__init__(verbose)\n",
    "        self.total_timesteps = total_timesteps\n",
    "        self.progress_bar = None\n",
    "        self.last_timesteps = 0\n",
    "\n",
    "    def _on_training_start(self):\n",
    "        self.progress_bar = tqdm(total=self.total_timesteps, desc=\"Training Progress\", unit=\"step\")\n",
    "\n",
    "    def _on_step(self):\n",
    "        steps_since_last = self.num_timesteps - self.last_timesteps\n",
    "        self.progress_bar.update(steps_since_last)\n",
    "        self.last_timesteps += 1\n",
    "\n",
    "        # Optional: log latest reward if available\n",
    "        infos = self.locals.get(\"infos\", [])\n",
    "        if infos and isinstance(infos[0], dict) and \"episode\" in infos[0]:\n",
    "            self.progress_bar.set_postfix(reward=infos[0][\"episode\"][\"r\"])\n",
    "        return True  # Return True to continue training\n",
    "\n",
    "    def _on_training_end(self):\n",
    "        self.progress_bar.close()"
   ],
   "outputs": [],
   "execution_count": 5
  },
  {
   "metadata": {
    "ExecuteTime": {
     "end_time": "2025-06-15T02:54:37.426986Z",
     "start_time": "2025-06-15T02:54:37.421322Z"
    }
   },
   "cell_type": "code",
   "source": [
    "\n",
    "class MLflowCallback(BaseCallback):\n",
    "    def __init__(self, best_model_path, experiment_name=\"SB3_Experiment\", run_name=None, log_freq=1000, verbose=0):\n",
    "        super().__init__(verbose)\n",
    "        self.experiment_name = experiment_name\n",
    "        self.log_freq = log_freq\n",
    "        self.step_count = 0\n",
    "        self.best_mean_reward = -np.inf\n",
    "        self.best_model_path = best_model_path\n",
    "\n",
    "    def _on_step(self) -> bool:\n",
    "        self.step_count += 1\n",
    "        if self.step_count % self.log_freq == 0:\n",
    "            rewards = [ep_info['r'] for ep_info in self.model.ep_info_buffer] if self.model.ep_info_buffer else []\n",
    "            lengths = [ep_info['l'] for ep_info in self.model.ep_info_buffer] if self.model.ep_info_buffer else []\n",
    "\n",
    "            mean_reward = np.mean(rewards) if rewards else 0.0\n",
    "            max_reward = np.max(rewards) if rewards else 0.0\n",
    "            min_reward = np.min(rewards) if rewards else 0.0\n",
    "            mean_length = np.mean(lengths) if lengths else 0.0\n",
    "            std_reward = np.std(rewards) if rewards else 0.0\n",
    "\n",
    "            step = self.num_timesteps\n",
    "            mlflow.log_metric(\"timesteps\", step, step=step)\n",
    "            mlflow.log_metric(\"episode_reward_mean\", mean_reward, step=step)\n",
    "            mlflow.log_metric(\"episode_reward_max\", max_reward, step=step)\n",
    "            mlflow.log_metric(\"episode_reward_min\", min_reward, step=step)\n",
    "            mlflow.log_metric(\"episode_length_mean\", mean_length, step=step)\n",
    "            mlflow.log_metric(\"episode_reward_std\", std_reward, step=step)\n",
    "\n",
    "            if mean_reward > self.best_mean_reward:\n",
    "                self.best_mean_reward = mean_reward\n",
    "                # Save the best model\n",
    "                self.model.save(self.best_model_path)\n",
    "        return True\n",
    "\n",
    "    def _on_training_end(self):\n",
    "        # Optionally save the model as artifact\n",
    "        model_path = \"final_model.zip\"\n",
    "        self.model.save(model_path)\n",
    "        mlflow.log_artifact(model_path)\n",
    "        mlflow.end_run()"
   ],
   "outputs": [],
   "execution_count": 6
  },
  {
   "cell_type": "code",
   "metadata": {
    "id": "foSlxWH1Gb2b",
    "jupyter": {
     "is_executing": true
    },
    "ExecuteTime": {
     "start_time": "2025-06-15T02:55:10.890390Z"
    }
   },
   "source": [
    "policy_kwargs = dict(\n",
    "    features_extractor_class=MobileNetFeatureExtractor,\n",
    "    features_extractor_kwargs=dict(features_dim=256),\n",
    ")\n",
    "total_timesteps = 100000\n",
    "progress_bar_callback = TQDMProgressCallback(total_timesteps=total_timesteps)\n",
    "ml_callback = MLflowCallback(\n",
    "    \"models/dqn_mobilenet_v2_weights.zip\",\n",
    "    experiment_name=\"DQN_SpaceInvaders\",\n",
    "    run_name=\"DQN_Run\",\n",
    "    log_freq=500\n",
    ")\n",
    "experiment_name = \"DQN_SpaceInvaders\"\n",
    "exist_experiment = mlflow.get_experiment_by_name(experiment_name)\n",
    "if not exist_experiment:\n",
    "    mlflow.create_experiment(experiment_name)\n",
    "\n",
    "with mlflow.start_run(run_name=\"DQN_Run_MobileNetv2_finetuned\"):\n",
    "    mlflow.log_param(\"env_name\", env_name)\n",
    "    mlflow.log_param(\"total_timesteps\", total_timesteps)\n",
    "    mlflow.log_param(\"learning_rate\", 1e-4)\n",
    "    mlflow.log_param(\"buffer_size\", 100000)\n",
    "\n",
    "    model = DQN(\"CnnPolicy\", env, verbose=1, learning_rate=1e-4, buffer_size=100000, policy_kwargs=policy_kwargs)\n",
    "    t_model = model.learn(total_timesteps=total_timesteps, callback=[progress_bar_callback, ml_callback])"
   ],
   "outputs": [
    {
     "name": "stdout",
     "output_type": "stream",
     "text": [
      "Using cuda device\n",
      "Wrapping the env with a `Monitor` wrapper\n",
      "Wrapping the env in a DummyVecEnv.\n",
      "Wrapping the env in a VecTransposeImage.\n"
     ]
    },
    {
     "name": "stderr",
     "output_type": "stream",
     "text": [
      "/home/astolfo/anaconda3/envs/pytorch/lib/python3.10/site-packages/torchvision/models/_utils.py:208: UserWarning: The parameter 'pretrained' is deprecated since 0.13 and may be removed in the future, please use 'weights' instead.\n",
      "  warnings.warn(\n",
      "/home/astolfo/anaconda3/envs/pytorch/lib/python3.10/site-packages/torchvision/models/_utils.py:223: UserWarning: Arguments other than a weight enum or `None` for 'weights' are deprecated since 0.13 and may be removed in the future. The current behavior is equivalent to passing `weights=MobileNet_V2_Weights.IMAGENET1K_V1`. You can also use `weights=MobileNet_V2_Weights.DEFAULT` to get the most up-to-date weights.\n",
      "  warnings.warn(msg)\n"
     ]
    },
    {
     "data": {
      "text/plain": [
       "Training Progress:   0%|          | 0/100000 [00:00<?, ?step/s]"
      ],
      "application/vnd.jupyter.widget-view+json": {
       "version_major": 2,
       "version_minor": 0,
       "model_id": "fa7937fd9234404da2807f9b51e8e377"
      }
     },
     "metadata": {},
     "output_type": "display_data"
    },
    {
     "name": "stderr",
     "output_type": "stream",
     "text": [
      "/home/astolfo/anaconda3/envs/pytorch/lib/python3.10/site-packages/torch/nn/modules/linear.py:125: UserWarning: Attempting to use hipBLASLt on an unsupported architecture! Overriding blas backend to hipblas (Triggered internally at /pytorch/aten/src/ATen/Context.cpp:310.)\n",
      "  return F.linear(input, self.weight, self.bias)\n"
     ]
    }
   ],
   "execution_count": null
  },
  {
   "metadata": {
    "jupyter": {
     "is_executing": true
    },
    "ExecuteTime": {
     "end_time": "2025-06-15T02:54:18.607138800Z",
     "start_time": "2025-06-15T02:51:06.303066Z"
    }
   },
   "cell_type": "code",
   "source": [
    "total_timesteps = 100000\n",
    "progress_bar_callback = TQDMProgressCallback(total_timesteps=total_timesteps)\n",
    "ml_callback = MLflowCallback(\n",
    "    best_model_path=\"models/dqn_vit_b_16_weights.zip\",\n",
    "    experiment_name=\"DQN_SpaceInvaders\",\n",
    "    run_name=\"DQN_Run\",\n",
    "    log_freq=500\n",
    ")\n",
    "experiment_name = \"DQN_SpaceInvaders\"\n",
    "exist_experiment = mlflow.get_experiment_by_name(experiment_name)\n",
    "if not exist_experiment:\n",
    "    mlflow.create_experiment(experiment_name)\n",
    "\n",
    "with mlflow.start_run(run_name=\"DQN_Run_Vit_b_16_finetuned\"):\n",
    "    mlflow.log_param(\"env_name\", env_name)\n",
    "    mlflow.log_param(\"total_timesteps\", total_timesteps)\n",
    "    mlflow.log_param(\"learning_rate\", 1e-4)\n",
    "    mlflow.log_param(\"buffer_size\", 100000)\n",
    "    model = DQN.load(\"models/dqn_vit_b_16_weights.zip\", env=env)\n",
    "    t_model = model.learn(total_timesteps=total_timesteps, callback=[progress_bar_callback, ml_callback])\n"
   ],
   "outputs": [
    {
     "name": "stdout",
     "output_type": "stream",
     "text": [
      "Wrapping the env with a `Monitor` wrapper\n",
      "Wrapping the env in a DummyVecEnv.\n",
      "Wrapping the env in a VecTransposeImage.\n"
     ]
    },
    {
     "name": "stderr",
     "output_type": "stream",
     "text": [
      "/home/astolfo/anaconda3/envs/pytorch/lib/python3.10/site-packages/torch/nn/functional.py:5614: UserWarning: Attempting to use hipBLASLt on an unsupported architecture! Overriding blas backend to hipblas (Triggered internally at /pytorch/aten/src/ATen/Context.cpp:310.)\n",
      "  proj = linear(q, w, b)\n"
     ]
    },
    {
     "data": {
      "text/plain": [
       "Training Progress:   0%|          | 0/100000 [00:00<?, ?step/s]"
      ],
      "application/vnd.jupyter.widget-view+json": {
       "version_major": 2,
       "version_minor": 0,
       "model_id": "c48940b747844d8289879595ec105909"
      }
     },
     "metadata": {},
     "output_type": "display_data"
    }
   ],
   "execution_count": null
  },
  {
   "metadata": {
    "jupyter": {
     "is_executing": true
    },
    "ExecuteTime": {
     "start_time": "2025-06-15T02:29:15.196475Z"
    }
   },
   "cell_type": "code",
   "source": [
    "policy_kwargs = dict(\n",
    "    features_extractor_class=VitB16FeaturesExtractor,\n",
    "    features_extractor_kwargs=dict(features_dim=256),\n",
    ")\n",
    "total_timesteps = 100000\n",
    "progress_bar_callback = TQDMProgressCallback(total_timesteps=total_timesteps)\n",
    "ml_callback = MLflowCallback(\n",
    "    best_model_path=\"models/dqn_vit_b_16_weights.zip\",\n",
    "    experiment_name=\"DQN_SpaceInvaders\",\n",
    "    run_name=\"DQN_Run\",\n",
    "    log_freq=500\n",
    ")\n",
    "experiment_name = \"DQN_SpaceInvaders\"\n",
    "exist_experiment = mlflow.get_experiment_by_name(experiment_name)\n",
    "if not exist_experiment:\n",
    "    mlflow.create_experiment(experiment_name)\n",
    "\n",
    "with mlflow.start_run(run_name=\"DQN_Run_Vit_b_16_finetuned\"):\n",
    "    mlflow.log_param(\"env_name\", env_name)\n",
    "    mlflow.log_param(\"total_timesteps\", total_timesteps)\n",
    "    mlflow.log_param(\"learning_rate\", 1e-4)\n",
    "    mlflow.log_param(\"buffer_size\", 100000)\n",
    "\n",
    "    model = DQN(\"CnnPolicy\", env, verbose=1, learning_rate=1e-4, buffer_size=100000, policy_kwargs=policy_kwargs)\n",
    "    t_model = model.learn(total_timesteps=total_timesteps, callback=[progress_bar_callback, ml_callback])\n"
   ],
   "outputs": [
    {
     "name": "stdout",
     "output_type": "stream",
     "text": [
      "Using cuda device\n",
      "Wrapping the env with a `Monitor` wrapper\n",
      "Wrapping the env in a DummyVecEnv.\n",
      "Wrapping the env in a VecTransposeImage.\n"
     ]
    },
    {
     "data": {
      "text/plain": [
       "Training Progress:   0%|          | 0/100000 [00:00<?, ?step/s]"
      ],
      "application/vnd.jupyter.widget-view+json": {
       "version_major": 2,
       "version_minor": 0,
       "model_id": "0a6365da6b00403b8b3fa10110e78452"
      }
     },
     "metadata": {},
     "output_type": "display_data"
    },
    {
     "name": "stdout",
     "output_type": "stream",
     "text": [
      "----------------------------------\n",
      "| rollout/            |          |\n",
      "|    ep_len_mean      | 624      |\n",
      "|    ep_rew_mean      | 8.25     |\n",
      "|    exploration_rate | 0.763    |\n",
      "| time/               |          |\n",
      "|    episodes         | 4        |\n",
      "|    fps              | 19       |\n",
      "|    time_elapsed     | 127      |\n",
      "|    total_timesteps  | 2496     |\n",
      "| train/              |          |\n",
      "|    learning_rate    | 0.0001   |\n",
      "|    loss             | 0.0159   |\n",
      "|    n_updates        | 598      |\n",
      "----------------------------------\n",
      "----------------------------------\n",
      "| rollout/            |          |\n",
      "|    ep_len_mean      | 653      |\n",
      "|    ep_rew_mean      | 9.25     |\n",
      "|    exploration_rate | 0.504    |\n",
      "| time/               |          |\n",
      "|    episodes         | 8        |\n",
      "|    fps              | 18       |\n",
      "|    time_elapsed     | 277      |\n",
      "|    total_timesteps  | 5226     |\n",
      "| train/              |          |\n",
      "|    learning_rate    | 0.0001   |\n",
      "|    loss             | 0.0147   |\n",
      "|    n_updates        | 1281     |\n",
      "----------------------------------\n",
      "----------------------------------\n",
      "| rollout/            |          |\n",
      "|    ep_len_mean      | 652      |\n",
      "|    ep_rew_mean      | 9.33     |\n",
      "|    exploration_rate | 0.257    |\n",
      "| time/               |          |\n",
      "|    episodes         | 12       |\n",
      "|    fps              | 18       |\n",
      "|    time_elapsed     | 418      |\n",
      "|    total_timesteps  | 7824     |\n",
      "| train/              |          |\n",
      "|    learning_rate    | 0.0001   |\n",
      "|    loss             | 5.43e-05 |\n",
      "|    n_updates        | 1930     |\n",
      "----------------------------------\n",
      "----------------------------------\n",
      "| rollout/            |          |\n",
      "|    ep_len_mean      | 758      |\n",
      "|    ep_rew_mean      | 11.6     |\n",
      "|    exploration_rate | 0.05     |\n",
      "| time/               |          |\n",
      "|    episodes         | 16       |\n",
      "|    fps              | 18       |\n",
      "|    time_elapsed     | 665      |\n",
      "|    total_timesteps  | 12128    |\n",
      "| train/              |          |\n",
      "|    learning_rate    | 0.0001   |\n",
      "|    loss             | 0.000106 |\n",
      "|    n_updates        | 3006     |\n",
      "----------------------------------\n"
     ]
    }
   ],
   "execution_count": null
  },
  {
   "cell_type": "code",
   "execution_count": null,
   "metadata": {
    "id": "OHYryKd1Gb2b"
   },
   "outputs": [],
   "source": [
    "# Testing part to calculate the mean reward\n",
    "weights_filename = 'dqn_{}_weights.h5f'.format(env_name)\n",
    "dqn.load_weights(weights_filename)\n",
    "dqn.test(env, nb_episodes=10, visualize=False)"
   ]
  },
  {
   "cell_type": "markdown",
   "metadata": {
    "id": "-NAlu8b1Gb2b"
   },
   "source": [
    "3. Justificación de los parámetros seleccionados y de los resultados obtenidos"
   ]
  },
  {
   "cell_type": "markdown",
   "source": [
    "---"
   ],
   "metadata": {
    "id": "ANFQiicXK3sO"
   }
  }
 ],
 "metadata": {
  "kernelspec": {
   "display_name": "Python 3",
   "language": "python",
   "name": "python3"
  },
  "language_info": {
   "codemirror_mode": {
    "name": "ipython",
    "version": 3
   },
   "file_extension": ".py",
   "mimetype": "text/x-python",
   "name": "python",
   "nbconvert_exporter": "python",
   "pygments_lexer": "ipython3",
   "version": "3.7.9"
  },
  "colab": {
   "provenance": []
  }
 },
 "nbformat": 4,
 "nbformat_minor": 0
}
